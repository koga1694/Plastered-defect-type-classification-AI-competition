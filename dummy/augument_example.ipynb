{
 "cells": [
  {
   "cell_type": "code",
   "execution_count": 1,
   "metadata": {},
   "outputs": [],
   "source": [
    "import pandas as pd\n",
    "import numpy as np\n",
    "import cv2\n"
   ]
  },
  {
   "cell_type": "code",
   "execution_count": 7,
   "metadata": {},
   "outputs": [],
   "source": [
    "img = 'C:/workplace/dacon/wall/train/furniture/0.png'\n",
    "img = cv2.imread(img)\n",
    "# 가우시안 필터 적용\n",
    "gaussian_img = cv2.GaussianBlur(img, (5, 5), 0)\n",
    "\n",
    "# 결과 이미지 출력\n",
    "cv2.imshow('Original Image', img)\n",
    "cv2.imshow('Gaussian Filtered Image', gaussian_img)\n",
    "cv2.waitKey(0)\n",
    "cv2.destroyAllWindows()"
   ]
  },
  {
   "cell_type": "code",
   "execution_count": 5,
   "metadata": {},
   "outputs": [],
   "source": [
    "# sharpening filter 생성\n",
    "kernel = np.array([[-1,-1,-1], [-1,9,-1], [-1,-1,-1]])\n",
    "\n",
    "# 필터 적용\n",
    "sharpened_img = cv2.filter2D(img, -1, kernel)\n",
    "\n",
    "# 결과 이미지 출력\n",
    "cv2.imshow('Original Image', img)\n",
    "cv2.imshow('Sharpened Image', sharpened_img)\n",
    "cv2.waitKey(0)\n",
    "cv2.destroyAllWindows()"
   ]
  },
  {
   "cell_type": "code",
   "execution_count": 20,
   "metadata": {},
   "outputs": [],
   "source": [
    "img = 'C:/workplace/dacon/wall/train/furniture/0.png'\n",
    "img = cv2.imread(img)\n",
    "\n",
    "# Mean Shift 알고리즘 적용\n",
    "shifted = cv2.pyrMeanShiftFiltering(img, 21, 51)\n",
    "\n",
    "# 그레이스케일 및 이진화 수행\n",
    "gray = cv2.cvtColor(shifted, cv2.COLOR_BGR2GRAY)\n",
    "thresh = cv2.threshold(gray, 0, 255, cv2.THRESH_BINARY | cv2.THRESH_OTSU)[1]\n",
    "\n",
    "# 결과 이미지 출력\n",
    "cv2.imshow('Original Image', img)\n",
    "cv2.imshow('Segmented Image', thresh)\n",
    "cv2.waitKey(0)\n",
    "cv2.destroyAllWindows()"
   ]
  },
  {
   "cell_type": "code",
   "execution_count": 56,
   "metadata": {},
   "outputs": [],
   "source": [
    "img = 'C:/workplace/dacon/wall/train/mold/40.png'\n",
    "\n",
    "img = cv2.imread(img)\n",
    "# 그레이스케일로 변환\n",
    "gray = cv2.cvtColor(img, cv2.COLOR_BGR2GRAY)\n",
    "\n",
    "# Canny 경계 검출 알고리즘 적용\n",
    "edges = cv2.Canny(gray, 50, 150)\n",
    "\n",
    "# 경계 검출 결과를 컬러 이미지에 추가\n",
    "output = cv2.cvtColor(edges, cv2.COLOR_GRAY2BGR)\n",
    "\n",
    "# 경계 검출된 부분에 빨간색 선을 그리기\n",
    "output[edges != 0] = [0, 0, 255]\n",
    "\n",
    "# 결과 이미지 출력\n",
    "cv2.imshow(\"output\", output)\n",
    "cv2.waitKey(0)\n",
    "cv2.destroyAllWindows()"
   ]
  },
  {
   "cell_type": "code",
   "execution_count": 60,
   "metadata": {},
   "outputs": [],
   "source": [
    "img = 'C:/workplace/dacon/wall/train/mold/40.png'\n",
    "img = cv2.imread(img)\n",
    "# 컬러 이미지를 그레이스케일 이미지로 변환\n",
    "gray_img = cv2.cvtColor(img, cv2.COLOR_BGR2GRAY)\n",
    "\n",
    "# 히스토그램 평활화 적용\n",
    "equalized_img = cv2.equalizeHist(gray_img)\n",
    "\n",
    "# 결과 이미지 출력\n",
    "cv2.imshow('Original Image', img)\n",
    "cv2.imshow('Equalized Image', equalized_img)\n",
    "cv2.waitKey(0)\n",
    "cv2.destroyAllWindows()"
   ]
  },
  {
   "cell_type": "code",
   "execution_count": 59,
   "metadata": {},
   "outputs": [],
   "source": [
    "img = 'C:/workplace/dacon/wall/train/mold/40.png'\n",
    "img = cv2.imread(img, 0)\n",
    "# CLAHE 적용\n",
    "clahe = cv2.createCLAHE(clipLimit=2.0, tileGridSize=(8,8))\n",
    "cl1 = clahe.apply(img)\n",
    "\n",
    "# 결과 이미지 출력\n",
    "cv2.imshow('Original Image', img)\n",
    "cv2.imshow('Equalized Image', cl1)\n",
    "cv2.waitKey(0)\n",
    "cv2.destroyAllWindows()"
   ]
  },
  {
   "cell_type": "code",
   "execution_count": 58,
   "metadata": {},
   "outputs": [],
   "source": [
    "img = 'C:/workplace/dacon/wall/train/mold/40.png'\n",
    "img = cv2.imread(img)\n",
    "# 컬러 이미지를 각각의 색상 채널로 분리\n",
    "b, g, r = cv2.split(img)\n",
    "\n",
    "# 각각의 색상 채널에 대해 히스토그램 평활화 적용\n",
    "b_eq = cv2.equalizeHist(b)\n",
    "g_eq = cv2.equalizeHist(g)\n",
    "r_eq = cv2.equalizeHist(r)\n",
    "\n",
    "# 각각의 색상 채널을 다시 합쳐서 컬러 이미지 생성\n",
    "result = cv2.merge((b_eq, g_eq, r_eq))\n",
    "\n",
    "# 결과 이미지 출력\n",
    "cv2.imshow('Original Image', img)\n",
    "cv2.imshow('Equalized Image', result)\n",
    "cv2.waitKey(0)\n",
    "cv2.destroyAllWindows()"
   ]
  }
 ],
 "metadata": {
  "kernelspec": {
   "display_name": "Python 3.8.10 64-bit ('3.8.10')",
   "language": "python",
   "name": "python3"
  },
  "language_info": {
   "codemirror_mode": {
    "name": "ipython",
    "version": 3
   },
   "file_extension": ".py",
   "mimetype": "text/x-python",
   "name": "python",
   "nbconvert_exporter": "python",
   "pygments_lexer": "ipython3",
   "version": "3.8.10"
  },
  "orig_nbformat": 4,
  "vscode": {
   "interpreter": {
    "hash": "d6ad6a5e467af0c55cd3439f95cdffc9b087666e3ab0338166755486d36b79e1"
   }
  }
 },
 "nbformat": 4,
 "nbformat_minor": 2
}
